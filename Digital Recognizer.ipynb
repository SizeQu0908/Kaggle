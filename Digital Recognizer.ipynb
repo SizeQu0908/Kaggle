{
 "cells": [
  {
   "cell_type": "code",
   "execution_count": 32,
   "metadata": {},
   "outputs": [],
   "source": [
    "from keras import models, layers\n",
    "import numpy as np\n",
    "from keras.utils import to_categorical\n",
    "import pandas as pd\n",
    "from keras.layers import Convolution2D, MaxPooling2D, Flatten, Dropout, BatchNormalization, Dense, Lambda\n",
    "from sklearn.model_selection import train_test_split\n",
    "import tensorflow as tf\n",
    "import matplotlib.pyplot as plt\n",
    "import matplotlib.image as mpimg\n",
    "import seaborn as sns\n",
    "import itertools"
   ]
  },
  {
   "cell_type": "code",
   "execution_count": 3,
   "metadata": {},
   "outputs": [],
   "source": [
    "train = pd.read_csv('C:/Users/sizeq/Downloads/train (4).csv')\n",
    "test = pd.read_csv('C:/Users/sizeq/Downloads/test (2).csv')"
   ]
  },
  {
   "cell_type": "code",
   "execution_count": 4,
   "metadata": {},
   "outputs": [],
   "source": [
    "#Prepare Data for Training"
   ]
  },
  {
   "cell_type": "code",
   "execution_count": 5,
   "metadata": {},
   "outputs": [
    {
     "data": {
      "text/plain": [
       "count       785\n",
       "unique        1\n",
       "top       False\n",
       "freq        785\n",
       "dtype: object"
      ]
     },
     "execution_count": 5,
     "metadata": {},
     "output_type": "execute_result"
    }
   ],
   "source": [
    "# Check the data\n",
    "train.isnull().any().describe()"
   ]
  },
  {
   "cell_type": "code",
   "execution_count": 6,
   "metadata": {},
   "outputs": [
    {
     "data": {
      "text/plain": [
       "count       784\n",
       "unique        1\n",
       "top       False\n",
       "freq        784\n",
       "dtype: object"
      ]
     },
     "execution_count": 6,
     "metadata": {},
     "output_type": "execute_result"
    }
   ],
   "source": [
    "test.isnull().any().describe()"
   ]
  },
  {
   "cell_type": "code",
   "execution_count": 8,
   "metadata": {},
   "outputs": [],
   "source": [
    "# scalling the value in 0-1 , so /255. \n",
    "X = train.iloc[:,1:]/255.\n",
    "y = train.iloc[:,0]\n",
    "test = test/255."
   ]
  },
  {
   "cell_type": "code",
   "execution_count": 9,
   "metadata": {},
   "outputs": [],
   "source": [
    "# reshaping 784 to 28,28,1\n",
    "X = X.values.reshape(train.shape[0],28,28,1)\n",
    "test = test.values.reshape(test.shape[0],28,28,1)"
   ]
  },
  {
   "cell_type": "code",
   "execution_count": 10,
   "metadata": {},
   "outputs": [
    {
     "data": {
      "text/plain": [
       "(42000, 28, 28, 1)"
      ]
     },
     "execution_count": 10,
     "metadata": {},
     "output_type": "execute_result"
    }
   ],
   "source": [
    "X.shape"
   ]
  },
  {
   "cell_type": "code",
   "execution_count": 11,
   "metadata": {},
   "outputs": [],
   "source": [
    "# one hot of target values using keras's to_categorical class\n",
    "y = to_categorical(y)"
   ]
  },
  {
   "cell_type": "code",
   "execution_count": 12,
   "metadata": {},
   "outputs": [],
   "source": [
    "# splits train/test set \n",
    "Xtrain, Xtest, ytrain, ytest = train_test_split(X, y, test_size =0.3,random_state=29)"
   ]
  },
  {
   "cell_type": "code",
   "execution_count": 13,
   "metadata": {},
   "outputs": [
    {
     "data": {
      "text/plain": [
       "((29400, 28, 28, 1), (29400, 10), (12600, 28, 28, 1), (12600, 10))"
      ]
     },
     "execution_count": 13,
     "metadata": {},
     "output_type": "execute_result"
    }
   ],
   "source": [
    "Xtrain.shape, ytrain.shape, Xtest.shape, ytest.shape"
   ]
  },
  {
   "cell_type": "code",
   "execution_count": 14,
   "metadata": {},
   "outputs": [],
   "source": [
    "mean_px = Xtrain.mean().astype(np.float32)\n",
    "std_px = Xtrain.std().astype(np.float32)"
   ]
  },
  {
   "cell_type": "code",
   "execution_count": 15,
   "metadata": {},
   "outputs": [
    {
     "data": {
      "image/png": "[encoded data removed]",
      "text/plain": [
       "<Figure size 432x288 with 1 Axes>"
      ]
     },
     "metadata": {
      "needs_background": "light"
     },
     "output_type": "display_data"
    }
   ],
   "source": [
    "g = plt.imshow(Xtrain[0][:,:,0])"
   ]
  },
  {
   "cell_type": "code",
   "execution_count": null,
   "metadata": {},
   "outputs": [],
   "source": []
  },
  {
   "cell_type": "code",
   "execution_count": 18,
   "metadata": {},
   "outputs": [],
   "source": [
    "def standardize(x): \n",
    "    return (x-mean_px)/std_px"
   ]
  },
  {
   "cell_type": "code",
   "execution_count": 19,
   "metadata": {},
   "outputs": [],
   "source": [
    "#Modeling and Training"
   ]
  },
  {
   "cell_type": "code",
   "execution_count": 22,
   "metadata": {},
   "outputs": [],
   "source": [
    "# this is a model with dropouts layers\n",
    "def cnn():\n",
    "    model = models.Sequential()\n",
    "    model.add(Lambda(standardize,input_shape=(28,28,1)))\n",
    "    model.add(Convolution2D(32,(3,3), activation = 'relu', padding = 'Same'))\n",
    "    model.add(BatchNormalization(axis=1))   \n",
    "    model.add(Convolution2D(64,(3,3), activation = 'relu', padding = 'Same'))\n",
    "    model.add(MaxPooling2D())\n",
    "    model.add(Convolution2D(128,(3,3), activation = 'relu', padding = 'Same'))\n",
    "    model.add(BatchNormalization(axis=1))\n",
    "    model.add(Convolution2D(128,(2,2), activation = 'relu', padding = 'Same'))\n",
    "    model.add(MaxPooling2D())\n",
    "    model.add(Flatten())\n",
    "    model.add(Dense(256, activation='relu'))\n",
    "    model.add(Dropout(0.4))\n",
    "    model.add(Dense(256, activation='relu'))\n",
    "    model.add(Dropout(0.3))\n",
    "    model.add(Dense(10, activation='softmax'))          \n",
    "    model.compile(optimizer='adam', loss='categorical_crossentropy', metrics=['accuracy'])\n",
    "    return model          "
   ]
  },
  {
   "cell_type": "code",
   "execution_count": 23,
   "metadata": {},
   "outputs": [
    {
     "name": "stdout",
     "output_type": "stream",
     "text": [
      "WARNING:tensorflow:From C:\\Users\\sizeq\\Downloads\\a\\lib\\site-packages\\keras\\backend\\tensorflow_backend.py:4070: The name tf.nn.max_pool is deprecated. Please use tf.nn.max_pool2d instead.\n",
      "\n",
      "WARNING:tensorflow:From C:\\Users\\sizeq\\Downloads\\a\\lib\\site-packages\\keras\\backend\\tensorflow_backend.py:422: The name tf.global_variables is deprecated. Please use tf.compat.v1.global_variables instead.\n",
      "\n",
      "Train on 29400 samples, validate on 12600 samples\n",
      "Epoch 1/20\n",
      "29400/29400 [==============================] - 183s 6ms/step - loss: 1.4389 - accuracy: 0.5399 - val_loss: 1.1488 - val_accuracy: 0.8533\n",
      "Epoch 2/20\n",
      "29400/29400 [==============================] - 196s 7ms/step - loss: 0.2973 - accuracy: 0.9070 - val_loss: 0.9756 - val_accuracy: 0.9250\n",
      "Epoch 3/20\n",
      "29400/29400 [==============================] - 204s 7ms/step - loss: 0.1456 - accuracy: 0.9557 - val_loss: 0.9812 - val_accuracy: 0.8916\n",
      "Epoch 4/20\n",
      "29400/29400 [==============================] - 181s 6ms/step - loss: 0.0976 - accuracy: 0.9721 - val_loss: 0.7374 - val_accuracy: 0.9008\n",
      "Epoch 5/20\n",
      "29400/29400 [==============================] - 182s 6ms/step - loss: 0.0766 - accuracy: 0.9774 - val_loss: 0.6044 - val_accuracy: 0.9122\n",
      "Epoch 6/20\n",
      "29400/29400 [==============================] - 184s 6ms/step - loss: 0.0616 - accuracy: 0.9812 - val_loss: 0.4918 - val_accuracy: 0.9271\n",
      "Epoch 7/20\n",
      "29400/29400 [==============================] - 184s 6ms/step - loss: 0.0585 - accuracy: 0.9825 - val_loss: 0.2703 - val_accuracy: 0.9648\n",
      "Epoch 8/20\n",
      "29400/29400 [==============================] - 208s 7ms/step - loss: 0.0434 - accuracy: 0.9868 - val_loss: 0.1481 - val_accuracy: 0.9774\n",
      "Epoch 9/20\n",
      "29400/29400 [==============================] - 201s 7ms/step - loss: 0.0400 - accuracy: 0.9879 - val_loss: 0.0997 - val_accuracy: 0.9814\n",
      "Epoch 10/20\n",
      "29400/29400 [==============================] - 204s 7ms/step - loss: 0.0346 - accuracy: 0.9891 - val_loss: 0.0819 - val_accuracy: 0.9813\n",
      "Epoch 11/20\n",
      "29400/29400 [==============================] - 208s 7ms/step - loss: 0.0319 - accuracy: 0.9901 - val_loss: 0.0420 - val_accuracy: 0.9881\n",
      "Epoch 12/20\n",
      "29400/29400 [==============================] - 192s 7ms/step - loss: 0.0300 - accuracy: 0.9904 - val_loss: 0.0419 - val_accuracy: 0.9894\n",
      "Epoch 13/20\n",
      "29400/29400 [==============================] - 218s 7ms/step - loss: 0.0273 - accuracy: 0.9915 - val_loss: 0.0368 - val_accuracy: 0.9893\n",
      "Epoch 14/20\n",
      "29400/29400 [==============================] - 181s 6ms/step - loss: 0.0238 - accuracy: 0.9924 - val_loss: 0.0334 - val_accuracy: 0.9903\n",
      "Epoch 15/20\n",
      "29400/29400 [==============================] - 193s 7ms/step - loss: 0.0230 - accuracy: 0.9925 - val_loss: 0.0328 - val_accuracy: 0.9910\n",
      "Epoch 16/20\n",
      "29400/29400 [==============================] - 190s 6ms/step - loss: 0.0205 - accuracy: 0.9938 - val_loss: 0.0372 - val_accuracy: 0.9900\n",
      "Epoch 17/20\n",
      "29400/29400 [==============================] - 186s 6ms/step - loss: 0.0176 - accuracy: 0.9946 - val_loss: 0.0340 - val_accuracy: 0.9917\n",
      "Epoch 18/20\n",
      "29400/29400 [==============================] - 187s 6ms/step - loss: 0.0153 - accuracy: 0.9949 - val_loss: 0.0324 - val_accuracy: 0.9922\n",
      "Epoch 19/20\n",
      "29400/29400 [==============================] - 184s 6ms/step - loss: 0.0139 - accuracy: 0.9959 - val_loss: 0.0349 - val_accuracy: 0.9910\n",
      "Epoch 20/20\n",
      "29400/29400 [==============================] - 177s 6ms/step - loss: 0.0131 - accuracy: 0.9956 - val_loss: 0.0328 - val_accuracy: 0.9932\n"
     ]
    },
    {
     "data": {
      "text/plain": [
       "<keras.callbacks.callbacks.History at 0x28c1c9ba438>"
      ]
     },
     "execution_count": 23,
     "metadata": {},
     "output_type": "execute_result"
    }
   ],
   "source": [
    "classifier = cnn()\n",
    "# traing the model with 20 epochs and 1000 batch size\n",
    "classifier.fit(Xtrain, ytrain, epochs=20,batch_size=1000,validation_data=(Xtest,ytest))"
   ]
  },
  {
   "cell_type": "code",
   "execution_count": 24,
   "metadata": {},
   "outputs": [],
   "source": [
    "#prediction of submission_test set\n",
    "prediction = classifier.predict(test) \n",
    "predictions = np.argmax(prediction, axis=1)"
   ]
  },
  {
   "cell_type": "code",
   "execution_count": null,
   "metadata": {},
   "outputs": [],
   "source": []
  },
  {
   "cell_type": "code",
   "execution_count": 30,
   "metadata": {},
   "outputs": [],
   "source": [
    "# confusion matrix\n",
    "from sklearn.metrics import confusion_matrix"
   ]
  },
  {
   "cell_type": "code",
   "execution_count": 33,
   "metadata": {},
   "outputs": [
    {
     "data": {
      "image/png": "[encoded data removed]",
      "text/plain": [
       "<Figure size 432x288 with 2 Axes>"
      ]
     },
     "metadata": {
      "needs_background": "light"
     },
     "output_type": "display_data"
    }
   ],
   "source": [
    "def plot_confusion_matrix(cm, classes,\n",
    "                          normalize=False,\n",
    "                          title='Confusion matrix',\n",
    "                          cmap=plt.cm.Oranges):\n",
    "\n",
    "    plt.imshow(cm, interpolation='nearest', cmap=cmap)\n",
    "    plt.title(title)\n",
    "    plt.colorbar()\n",
    "    tick_marks = np.arange(len(classes))\n",
    "    plt.xticks(tick_marks, classes, rotation=45)\n",
    "    plt.yticks(tick_marks, classes)\n",
    "\n",
    "    if normalize:\n",
    "        cm = cm.astype('float') / cm.sum(axis=1)[:, np.newaxis]\n",
    "\n",
    "    thresh = cm.max() / 2.\n",
    "    for i, j in itertools.product(range(cm.shape[0]), range(cm.shape[1])):\n",
    "        plt.text(j, i, cm[i, j],\n",
    "                 horizontalalignment=\"center\",\n",
    "                 color=\"white\" if cm[i, j] > thresh else \"black\")\n",
    "\n",
    "    plt.tight_layout()\n",
    "    plt.ylabel('True label')\n",
    "    plt.xlabel('Predicted label')\n",
    "\n",
    "# Predict the values from the validation dataset\n",
    "Y_pred = classifier.predict(Xtest)\n",
    "# Convert predictions classes to one hot vectors \n",
    "Y_pred_classes = np.argmax(Y_pred,axis = 1) \n",
    "# Convert validation observations to one hot vectors\n",
    "Y_true = np.argmax(ytest,axis = 1) \n",
    "# compute the confusion matrix\n",
    "confusion_mtx = confusion_matrix(Y_true, Y_pred_classes) \n",
    "# plot the confusion matrix\n",
    "plot_confusion_matrix(confusion_mtx, classes = range(10)) "
   ]
  },
  {
   "cell_type": "code",
   "execution_count": 23,
   "metadata": {},
   "outputs": [],
   "source": [
    "submissions=pd.DataFrame({\"ImageId\": list(range(1,len(predictions)+1)),\n",
    "                         \"Label\": predictions})\n"
   ]
  },
  {
   "cell_type": "code",
   "execution_count": 24,
   "metadata": {},
   "outputs": [
    {
     "data": {
      "text/plain": [
       "(28000, 2)"
      ]
     },
     "execution_count": 24,
     "metadata": {},
     "output_type": "execute_result"
    }
   ],
   "source": [
    "submissions.to_csv(\"C:/Users/sizeq/Downloads/simple_cnn_kaggle.csv\", index=False, header=True)\n",
    "submissions.shape"
   ]
  },
  {
   "cell_type": "code",
   "execution_count": null,
   "metadata": {},
   "outputs": [],
   "source": []
  }
 ],
 "metadata": {
  "kernelspec": {
   "display_name": "Python 3",
   "language": "python",
   "name": "python3"
  },
  "language_info": {
   "codemirror_mode": {
    "name": "ipython",
    "version": 3
   },
   "file_extension": ".py",
   "mimetype": "text/x-python",
   "name": "python",
   "nbconvert_exporter": "python",
   "pygments_lexer": "ipython3",
   "version": "3.7.3"
  }
 },
 "nbformat": 4,
 "nbformat_minor": 2
}
